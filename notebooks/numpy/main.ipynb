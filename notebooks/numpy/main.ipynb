{
 "cells": [
  {
   "cell_type": "code",
   "execution_count": 1,
   "metadata": {},
   "outputs": [],
   "source": [
    "import numpy as np\n",
    "from scipy.special import softmax\n",
    "from hypertraps import HyperTraPS\n",
    "from hypertraps_test import make_test_data_1, make_test_data_2\n",
    "from hypertraps_test import (\n",
    "    make_zeros_logits, make_left_right_logits, make_left_right_right_left_logits\n",
    ")"
   ]
  },
  {
   "cell_type": "code",
   "execution_count": 2,
   "metadata": {},
   "outputs": [
    {
     "name": "stdout",
     "output_type": "stream",
     "text": [
      "Test dataset 1 with zero-order, log_prob:                     -17.092\n",
      "Test dataset 1 with max likelihood logits, log_prob:           -0.000\n",
      "Test dataset 2 with zero-order, log_prob:                     -34.183\n",
      "Test dataset 2 with max likelihood logits, log_prob:           -8.318\n"
     ]
    }
   ],
   "source": [
    "# Set-up data\n",
    "length = 7\n",
    "mu = 10\n",
    "sigma = 0.05\n",
    "repeats = 1\n",
    "\n",
    "# Simple example cases to illustrate calculation\n",
    "X = make_test_data_1(length=length, repeats=repeats)\n",
    "# Use zeros as parameters\n",
    "logits = np.zeros((length, length))\n",
    "hypertraps = HyperTraPS(logits, n_samples=1000)\n",
    "print(f\"{'Test dataset 1 with zero-order, log_prob:':60} {hypertraps.log_prob(X).sum():>8.3f}\")\n",
    "\n",
    "# Left-right data\n",
    "X = make_test_data_1(length=length, repeats=repeats)\n",
    "# Use directed walk as parameters\n",
    "logits = make_left_right_logits(length)\n",
    "hypertraps = HyperTraPS(logits, n_samples=1000)\n",
    "print(f\"{'Test dataset 1 with max likelihood logits, log_prob:':60} {hypertraps.log_prob(X).sum():>8.3f}\")\n",
    "\n",
    "# Left-right, right-left data\n",
    "X = make_test_data_2(length=length, repeats=repeats)\n",
    "# Use zeros as parameters\n",
    "logits = np.zeros((length, length))\n",
    "hypertraps = HyperTraPS(logits, n_samples=1000)\n",
    "print(f\"{'Test dataset 2 with zero-order, log_prob:':60} {hypertraps.log_prob(X).sum():>8.3f}\")\n",
    "\n",
    "# Left-right, right-left data\n",
    "X = make_test_data_2(length=length, repeats=repeats)\n",
    "# Use directed walk as parameters, 50-50\n",
    "logits = make_left_right_right_left_logits(length)\n",
    "hypertraps = HyperTraPS(logits, n_samples=1000)\n",
    "print(f\"{'Test dataset 2 with max likelihood logits, log_prob:':60} {hypertraps.log_prob(X).sum():>8.3f}\")"
   ]
  },
  {
   "cell_type": "code",
   "execution_count": 3,
   "metadata": {},
   "outputs": [
    {
     "name": "stdout",
     "output_type": "stream",
     "text": [
      "Epoch:      0, log prob:    -34.6\n",
      "Epoch:   1000, log prob:    -30.4\n",
      "Epoch:   2000, log prob:    -22.8\n",
      "Epoch:   3000, log prob:    -17.7\n",
      "Epoch:   4000, log prob:    -18.2\n",
      "Epoch:   5000, log prob:    -15.5\n",
      "Epoch:   6000, log prob:    -14.8\n",
      "Epoch:   7000, log prob:    -15.7\n",
      "Epoch:   8000, log prob:    -13.8\n",
      "Epoch:   9000, log prob:    -16.0\n",
      "Epoch:  10000, log prob:    -13.2\n",
      "Epoch:  11000, log prob:    -16.1\n",
      "Epoch:  12000, log prob:    -15.0\n",
      "Epoch:  13000, log prob:    -14.0\n",
      "Epoch:  14000, log prob:    -20.3\n",
      "Epoch:  15000, log prob:    -10.8\n",
      "Epoch:  16000, log prob:    -13.0\n",
      "Epoch:  17000, log prob:    -11.7\n",
      "Epoch:  18000, log prob:    -15.2\n",
      "Epoch:  19000, log prob:    -12.6\n",
      "Epoch:  20000, log prob:    -11.4\n",
      "Epoch:  21000, log prob:    -16.7\n",
      "Epoch:  22000, log prob:    -13.8\n",
      "Epoch:  23000, log prob:    -12.4\n",
      "Epoch:  24000, log prob:    -17.1\n",
      "Epoch:  25000, log prob:    -14.7\n",
      "Epoch:  26000, log prob:    -14.7\n",
      "Epoch:  27000, log prob:    -11.5\n",
      "Epoch:  28000, log prob:    -18.5\n",
      "Epoch:  29000, log prob:    -11.7\n",
      "Epoch:  30000, log prob:    -16.0\n",
      "Epoch:  31000, log prob:    -18.7\n",
      "Epoch:  32000, log prob:    -16.7\n",
      "Epoch:  33000, log prob:    -18.9\n",
      "Epoch:  34000, log prob:    -13.0\n",
      "Epoch:  35000, log prob:    -13.7\n",
      "Epoch:  36000, log prob:    -16.4\n",
      "Epoch:  37000, log prob:    -13.1\n",
      "Epoch:  38000, log prob:    -12.1\n",
      "Epoch:  39000, log prob:    -13.9\n",
      "Epoch:  40000, log prob:    -12.1\n",
      "Epoch:  41000, log prob:    -13.7\n",
      "Epoch:  42000, log prob:    -17.7\n",
      "Epoch:  43000, log prob:    -11.9\n",
      "Epoch:  44000, log prob:    -12.1\n",
      "Epoch:  45000, log prob:     -9.1\n",
      "Epoch:  46000, log prob:    -14.0\n",
      "Epoch:  47000, log prob:    -11.8\n",
      "Epoch:  48000, log prob:    -14.1\n",
      "Epoch:  49000, log prob:    -10.3\n",
      "CPU times: user 2min 35s, sys: 1.01 s, total: 2min 37s\n",
      "Wall time: 2min 40s\n"
     ]
    }
   ],
   "source": [
    "%%time\n",
    "# Run simple MCMC on HyerpTraPS\n",
    "X = make_test_data_2(length=length, repeats=repeats)\n",
    "\n",
    "#\n",
    "hypertraps = HyperTraPS(make_zeros_logits(length), n_samples=20)\n",
    "\n",
    "n_epochs = 50000\n",
    "print_every = 1000\n",
    "current_log_prob = hypertraps.log_prob(X).sum()\n",
    "chain_log_probs, chain_logits = [], []\n",
    "for epoch in range(n_epochs):\n",
    "    mu = np.random.normal(loc=0., scale=sigma, size=hypertraps.logits.shape)\n",
    "    old_logits = hypertraps.logits.copy()\n",
    "    hypertraps.logits = np.clip(hypertraps.logits + mu, *hypertraps.params_range)\n",
    "    update_log_prob = hypertraps.log_prob(X).sum()\n",
    "    \n",
    "    if (update_log_prob - current_log_prob) > np.log(np.random.uniform(0, 1)):\n",
    "        current_log_prob = update_log_prob\n",
    "    else:\n",
    "        hypertraps.logits = old_logits\n",
    "    \n",
    "    if epoch % print_every == 0:\n",
    "        print(f\"Epoch: {epoch:>6.0f}, log prob: {current_log_prob:>8.1f}\")\n",
    "    \n",
    "    chain_logits.append(hypertraps.logits)\n",
    "    chain_log_probs.append(current_log_prob)\n",
    "chain_log_probs = np.array(chain_log_probs)\n",
    "chain_logits = np.array(chain_logits).squeeze()\n"
   ]
  },
  {
   "cell_type": "code",
   "execution_count": 5,
   "metadata": {},
   "outputs": [
    {
     "data": {
      "image/png": "[encoded data removed]",
      "text/plain": [
       "<Figure size 432x288 with 1 Axes>"
      ]
     },
     "metadata": {
      "needs_background": "light"
     },
     "output_type": "display_data"
    }
   ],
   "source": [
    "import matplotlib.pyplot as plt\n",
    "# There is a problem as it is step-like, should have noise\n",
    "plt.plot(chain_log_probs)\n",
    "plt.show()"
   ]
  },
  {
   "cell_type": "code",
   "execution_count": null,
   "metadata": {},
   "outputs": [],
   "source": []
  }
 ],
 "metadata": {
  "kernelspec": {
   "display_name": "Python 3 (ipykernel)",
   "language": "python",
   "name": "python3"
  },
  "language_info": {
   "codemirror_mode": {
    "name": "ipython",
    "version": 3
   },
   "file_extension": ".py",
   "mimetype": "text/x-python",
   "name": "python",
   "nbconvert_exporter": "python",
   "pygments_lexer": "ipython3",
   "version": "3.7.11"
  }
 },
 "nbformat": 4,
 "nbformat_minor": 4
}
